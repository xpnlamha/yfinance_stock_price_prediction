{
  "cells": [
    {
      "cell_type": "code",
      "execution_count": 1,
      "metadata": {
        "id": "og6WMOHtx3mT"
      },
      "outputs": [],
      "source": [
        "import numpy as np\n",
        "import pandas as pd\n",
        "import matplotlib.pyplot as plt\n",
        "from sklearn.preprocessing import MinMaxScaler\n",
        "from keras.models import Sequential\n",
        "import keras\n",
        "from keras.layers import Dense, GRU, Dropout, BatchNormalization\n",
        "import numpy as np\n",
        "import random\n",
        "import tensorflow as tf\n",
        "\n",
        "np.random.seed(42)\n",
        "random.seed(42)\n",
        "tf.random.set_seed(42)"
      ]
    },
    {
      "cell_type": "code",
      "execution_count": 2,
      "metadata": {
        "colab": {
          "base_uri": "https://localhost:8080/",
          "height": 206
        },
        "id": "ZAzG9WDhzt81",
        "outputId": "c91d63e7-6740-44b4-bb74-a1a90715cbf0"
      },
      "outputs": [
        {
          "data": {
            "text/html": [
              "<div>\n",
              "<style scoped>\n",
              "    .dataframe tbody tr th:only-of-type {\n",
              "        vertical-align: middle;\n",
              "    }\n",
              "\n",
              "    .dataframe tbody tr th {\n",
              "        vertical-align: top;\n",
              "    }\n",
              "\n",
              "    .dataframe thead th {\n",
              "        text-align: right;\n",
              "    }\n",
              "</style>\n",
              "<table border=\"1\" class=\"dataframe\">\n",
              "  <thead>\n",
              "    <tr style=\"text-align: right;\">\n",
              "      <th></th>\n",
              "      <th>Date</th>\n",
              "      <th>Open</th>\n",
              "      <th>High</th>\n",
              "      <th>Low</th>\n",
              "      <th>Close</th>\n",
              "      <th>Adj Close</th>\n",
              "      <th>Volume</th>\n",
              "    </tr>\n",
              "  </thead>\n",
              "  <tbody>\n",
              "    <tr>\n",
              "      <th>0</th>\n",
              "      <td>2018-03-01</td>\n",
              "      <td>93.989998</td>\n",
              "      <td>94.570000</td>\n",
              "      <td>91.839996</td>\n",
              "      <td>92.849998</td>\n",
              "      <td>86.759659</td>\n",
              "      <td>37135600</td>\n",
              "    </tr>\n",
              "    <tr>\n",
              "      <th>1</th>\n",
              "      <td>2018-03-02</td>\n",
              "      <td>91.580002</td>\n",
              "      <td>93.150002</td>\n",
              "      <td>90.860001</td>\n",
              "      <td>93.050003</td>\n",
              "      <td>86.946533</td>\n",
              "      <td>32830400</td>\n",
              "    </tr>\n",
              "    <tr>\n",
              "      <th>2</th>\n",
              "      <td>2018-03-05</td>\n",
              "      <td>92.339996</td>\n",
              "      <td>94.269997</td>\n",
              "      <td>92.260002</td>\n",
              "      <td>93.639999</td>\n",
              "      <td>87.497826</td>\n",
              "      <td>23901600</td>\n",
              "    </tr>\n",
              "    <tr>\n",
              "      <th>3</th>\n",
              "      <td>2018-03-06</td>\n",
              "      <td>94.339996</td>\n",
              "      <td>94.489998</td>\n",
              "      <td>92.940002</td>\n",
              "      <td>93.320000</td>\n",
              "      <td>87.198814</td>\n",
              "      <td>22175800</td>\n",
              "    </tr>\n",
              "    <tr>\n",
              "      <th>4</th>\n",
              "      <td>2018-03-07</td>\n",
              "      <td>93.160004</td>\n",
              "      <td>93.940002</td>\n",
              "      <td>92.430000</td>\n",
              "      <td>93.860001</td>\n",
              "      <td>87.703415</td>\n",
              "      <td>26716100</td>\n",
              "    </tr>\n",
              "  </tbody>\n",
              "</table>\n",
              "</div>"
            ],
            "text/plain": [
              "         Date       Open       High        Low      Close  Adj Close    Volume\n",
              "0  2018-03-01  93.989998  94.570000  91.839996  92.849998  86.759659  37135600\n",
              "1  2018-03-02  91.580002  93.150002  90.860001  93.050003  86.946533  32830400\n",
              "2  2018-03-05  92.339996  94.269997  92.260002  93.639999  87.497826  23901600\n",
              "3  2018-03-06  94.339996  94.489998  92.940002  93.320000  87.198814  22175800\n",
              "4  2018-03-07  93.160004  93.940002  92.430000  93.860001  87.703415  26716100"
            ]
          },
          "execution_count": 2,
          "metadata": {},
          "output_type": "execute_result"
        }
      ],
      "source": [
        "df=pd.read_csv(\"D:\\IS403_TH\\Dataset\\MSFT.csv\")\n",
        "df1=df.reset_index()['Close']\n",
        "df.head()"
      ]
    },
    {
      "cell_type": "code",
      "execution_count": 3,
      "metadata": {
        "colab": {
          "base_uri": "https://localhost:8080/",
          "height": 206
        },
        "id": "qFH9luJ2x-Kn",
        "outputId": "378f05ca-9631-4891-b7df-011f384db3e5"
      },
      "outputs": [
        {
          "data": {
            "text/html": [
              "<div>\n",
              "<style scoped>\n",
              "    .dataframe tbody tr th:only-of-type {\n",
              "        vertical-align: middle;\n",
              "    }\n",
              "\n",
              "    .dataframe tbody tr th {\n",
              "        vertical-align: top;\n",
              "    }\n",
              "\n",
              "    .dataframe thead th {\n",
              "        text-align: right;\n",
              "    }\n",
              "</style>\n",
              "<table border=\"1\" class=\"dataframe\">\n",
              "  <thead>\n",
              "    <tr style=\"text-align: right;\">\n",
              "      <th></th>\n",
              "      <th>Date</th>\n",
              "      <th>Open</th>\n",
              "      <th>High</th>\n",
              "      <th>Low</th>\n",
              "      <th>Close</th>\n",
              "      <th>Adj Close</th>\n",
              "      <th>Volume</th>\n",
              "    </tr>\n",
              "  </thead>\n",
              "  <tbody>\n",
              "    <tr>\n",
              "      <th>1569</th>\n",
              "      <td>2024-05-24</td>\n",
              "      <td>427.190002</td>\n",
              "      <td>431.059998</td>\n",
              "      <td>424.410004</td>\n",
              "      <td>430.160004</td>\n",
              "      <td>430.160004</td>\n",
              "      <td>11845800</td>\n",
              "    </tr>\n",
              "    <tr>\n",
              "      <th>1570</th>\n",
              "      <td>2024-05-28</td>\n",
              "      <td>429.630005</td>\n",
              "      <td>430.820007</td>\n",
              "      <td>426.600006</td>\n",
              "      <td>430.320007</td>\n",
              "      <td>430.320007</td>\n",
              "      <td>15718000</td>\n",
              "    </tr>\n",
              "    <tr>\n",
              "      <th>1571</th>\n",
              "      <td>2024-05-29</td>\n",
              "      <td>425.690002</td>\n",
              "      <td>430.940002</td>\n",
              "      <td>425.690002</td>\n",
              "      <td>429.170013</td>\n",
              "      <td>429.170013</td>\n",
              "      <td>15517100</td>\n",
              "    </tr>\n",
              "    <tr>\n",
              "      <th>1572</th>\n",
              "      <td>2024-05-30</td>\n",
              "      <td>424.299988</td>\n",
              "      <td>424.299988</td>\n",
              "      <td>414.239990</td>\n",
              "      <td>414.670013</td>\n",
              "      <td>414.670013</td>\n",
              "      <td>28424800</td>\n",
              "    </tr>\n",
              "    <tr>\n",
              "      <th>1573</th>\n",
              "      <td>2024-05-31</td>\n",
              "      <td>416.750000</td>\n",
              "      <td>416.750000</td>\n",
              "      <td>404.510010</td>\n",
              "      <td>415.130005</td>\n",
              "      <td>415.130005</td>\n",
              "      <td>47995300</td>\n",
              "    </tr>\n",
              "  </tbody>\n",
              "</table>\n",
              "</div>"
            ],
            "text/plain": [
              "            Date        Open        High         Low       Close   Adj Close  \\\n",
              "1569  2024-05-24  427.190002  431.059998  424.410004  430.160004  430.160004   \n",
              "1570  2024-05-28  429.630005  430.820007  426.600006  430.320007  430.320007   \n",
              "1571  2024-05-29  425.690002  430.940002  425.690002  429.170013  429.170013   \n",
              "1572  2024-05-30  424.299988  424.299988  414.239990  414.670013  414.670013   \n",
              "1573  2024-05-31  416.750000  416.750000  404.510010  415.130005  415.130005   \n",
              "\n",
              "        Volume  \n",
              "1569  11845800  \n",
              "1570  15718000  \n",
              "1571  15517100  \n",
              "1572  28424800  \n",
              "1573  47995300  "
            ]
          },
          "execution_count": 3,
          "metadata": {},
          "output_type": "execute_result"
        }
      ],
      "source": [
        "df.tail()"
      ]
    },
    {
      "cell_type": "code",
      "execution_count": 4,
      "metadata": {
        "id": "2m5fmVhazv3m"
      },
      "outputs": [],
      "source": [
        "scaler=MinMaxScaler(feature_range=(0,1))\n",
        "df1=scaler.fit_transform(np.array(df1).reshape(-1,1))\n",
        "# df1 = df1.values.reshape(-1,1)"
      ]
    },
    {
      "cell_type": "code",
      "execution_count": 5,
      "metadata": {
        "id": "U-UaH0u_zx79"
      },
      "outputs": [],
      "source": [
        "# 4. Chia train test\n",
        "train_size = int(0.7  * len(df1))\n",
        "test_size = len(df1) - train_size\n",
        "\n",
        "train_data = df1[:train_size]\n",
        "test_data = df1[train_size:train_size+test_size]"
      ]
    },
    {
      "cell_type": "code",
      "execution_count": 6,
      "metadata": {
        "colab": {
          "base_uri": "https://localhost:8080/"
        },
        "id": "-CkrgPIcz1im",
        "outputId": "b1e7b4f7-cc31-42ec-df49-ae5b374ef96c"
      },
      "outputs": [
        {
          "name": "stdout",
          "output_type": "stream",
          "text": [
            "(1101, 1)\n",
            "(473, 1)\n"
          ]
        }
      ],
      "source": [
        "print(train_data.shape)\n",
        "print(test_data.shape)"
      ]
    },
    {
      "cell_type": "code",
      "execution_count": 7,
      "metadata": {
        "id": "4nE6uOHhz3Y2"
      },
      "outputs": [],
      "source": [
        "# 5. Hàm Create Dataset\n",
        "import numpy\n",
        "# convert an array of values into a dataset matrix\n",
        "def create_dataset(dataset, time_step=1):\n",
        "\tdataX, dataY = [], []\n",
        "\tfor i in range(len(dataset)-time_step-1):\n",
        "\t\ta = dataset[i:(i+time_step), 0]   ###i=0, X=0,1,2,3-----99   Y=100\n",
        "\t\tdataX.append(a)\n",
        "\t\tdataY.append(dataset[i + time_step, 0])\n",
        "\treturn numpy.array(dataX), numpy.array(dataY)"
      ]
    },
    {
      "cell_type": "code",
      "execution_count": 8,
      "metadata": {
        "id": "J97aQDB4z7iT"
      },
      "outputs": [],
      "source": [
        "time_step = 100\n",
        "X_train, y_train = create_dataset(train_data, time_step)\n",
        "X_test, y_test = create_dataset(test_data, time_step)"
      ]
    },
    {
      "cell_type": "code",
      "execution_count": 9,
      "metadata": {
        "colab": {
          "base_uri": "https://localhost:8080/"
        },
        "id": "irmsAgc-z9rV",
        "outputId": "8a74230c-2af6-4993-c3cd-03f63ff4b4f9"
      },
      "outputs": [
        {
          "name": "stdout",
          "output_type": "stream",
          "text": [
            "(1000, 100)\n",
            "(1000,)\n",
            "(372, 100)\n",
            "(372,)\n"
          ]
        }
      ],
      "source": [
        "print(X_train.shape)\n",
        "print(y_train.shape)\n",
        "print(X_test.shape)\n",
        "print(y_test.shape)\n"
      ]
    },
    {
      "cell_type": "code",
      "execution_count": 10,
      "metadata": {
        "id": "yjW1ftXa0L-b"
      },
      "outputs": [],
      "source": [
        "# 7. Reshape input to be [samples, time steps, features] which is required for LSTM\n",
        "X_train =X_train.reshape(X_train.shape[0],X_train.shape[1] , 1)\n",
        "X_test = X_test.reshape(X_test.shape[0],X_test.shape[1] , 1)"
      ]
    },
    {
      "cell_type": "code",
      "execution_count": 11,
      "metadata": {
        "colab": {
          "base_uri": "https://localhost:8080/"
        },
        "id": "maevlXFY0OEJ",
        "outputId": "38374834-e922-499c-c022-d31ae80731de"
      },
      "outputs": [
        {
          "name": "stdout",
          "output_type": "stream",
          "text": [
            "(1000, 100, 1)\n",
            "(372, 100, 1)\n"
          ]
        }
      ],
      "source": [
        "print(X_train.shape)\n",
        "print(X_test.shape)"
      ]
    },
    {
      "cell_type": "code",
      "execution_count": 12,
      "metadata": {
        "id": "-u_QnIah0Ro7"
      },
      "outputs": [
        {
          "name": "stderr",
          "output_type": "stream",
          "text": [
            "c:\\Users\\Admin\\AppData\\Local\\Programs\\Python\\Python311\\Lib\\site-packages\\keras\\src\\layers\\rnn\\rnn.py:204: UserWarning: Do not pass an `input_shape`/`input_dim` argument to a layer. When using Sequential models, prefer using an `Input(shape)` object as the first layer in the model instead.\n",
            "  super().__init__(**kwargs)\n"
          ]
        }
      ],
      "source": [
        "# Construct model\n",
        "model = Sequential()\n",
        "model.add(GRU(64, return_sequences=False, input_shape=(time_step, 1)))\n",
        "model.add(Dense(1))\n",
        "model.compile(optimizer=keras.optimizers.Adam(learning_rate=1e-4),\n",
        "              loss='mean_squared_error',\n",
        "              metrics=['mean_squared_error'])\n"
      ]
    },
    {
      "cell_type": "code",
      "execution_count": 13,
      "metadata": {
        "colab": {
          "base_uri": "https://localhost:8080/"
        },
        "id": "3FS3XUe322t3",
        "outputId": "517ea566-fc6d-47fb-b8e5-c7833c99bf75"
      },
      "outputs": [
        {
          "data": {
            "text/html": [
              "<pre style=\"white-space:pre;overflow-x:auto;line-height:normal;font-family:Menlo,'DejaVu Sans Mono',consolas,'Courier New',monospace\"><span style=\"font-weight: bold\">Model: \"sequential\"</span>\n",
              "</pre>\n"
            ],
            "text/plain": [
              "\u001b[1mModel: \"sequential\"\u001b[0m\n"
            ]
          },
          "metadata": {},
          "output_type": "display_data"
        },
        {
          "data": {
            "text/html": [
              "<pre style=\"white-space:pre;overflow-x:auto;line-height:normal;font-family:Menlo,'DejaVu Sans Mono',consolas,'Courier New',monospace\">┏━━━━━━━━━━━━━━━━━━━━━━━━━━━━━━━━━┳━━━━━━━━━━━━━━━━━━━━━━━━┳━━━━━━━━━━━━━━━┓\n",
              "┃<span style=\"font-weight: bold\"> Layer (type)                    </span>┃<span style=\"font-weight: bold\"> Output Shape           </span>┃<span style=\"font-weight: bold\">       Param # </span>┃\n",
              "┡━━━━━━━━━━━━━━━━━━━━━━━━━━━━━━━━━╇━━━━━━━━━━━━━━━━━━━━━━━━╇━━━━━━━━━━━━━━━┩\n",
              "│ gru (<span style=\"color: #0087ff; text-decoration-color: #0087ff\">GRU</span>)                       │ (<span style=\"color: #00d7ff; text-decoration-color: #00d7ff\">None</span>, <span style=\"color: #00af00; text-decoration-color: #00af00\">64</span>)             │        <span style=\"color: #00af00; text-decoration-color: #00af00\">12,864</span> │\n",
              "├─────────────────────────────────┼────────────────────────┼───────────────┤\n",
              "│ dense (<span style=\"color: #0087ff; text-decoration-color: #0087ff\">Dense</span>)                   │ (<span style=\"color: #00d7ff; text-decoration-color: #00d7ff\">None</span>, <span style=\"color: #00af00; text-decoration-color: #00af00\">1</span>)              │            <span style=\"color: #00af00; text-decoration-color: #00af00\">65</span> │\n",
              "└─────────────────────────────────┴────────────────────────┴───────────────┘\n",
              "</pre>\n"
            ],
            "text/plain": [
              "┏━━━━━━━━━━━━━━━━━━━━━━━━━━━━━━━━━┳━━━━━━━━━━━━━━━━━━━━━━━━┳━━━━━━━━━━━━━━━┓\n",
              "┃\u001b[1m \u001b[0m\u001b[1mLayer (type)                   \u001b[0m\u001b[1m \u001b[0m┃\u001b[1m \u001b[0m\u001b[1mOutput Shape          \u001b[0m\u001b[1m \u001b[0m┃\u001b[1m \u001b[0m\u001b[1m      Param #\u001b[0m\u001b[1m \u001b[0m┃\n",
              "┡━━━━━━━━━━━━━━━━━━━━━━━━━━━━━━━━━╇━━━━━━━━━━━━━━━━━━━━━━━━╇━━━━━━━━━━━━━━━┩\n",
              "│ gru (\u001b[38;5;33mGRU\u001b[0m)                       │ (\u001b[38;5;45mNone\u001b[0m, \u001b[38;5;34m64\u001b[0m)             │        \u001b[38;5;34m12,864\u001b[0m │\n",
              "├─────────────────────────────────┼────────────────────────┼───────────────┤\n",
              "│ dense (\u001b[38;5;33mDense\u001b[0m)                   │ (\u001b[38;5;45mNone\u001b[0m, \u001b[38;5;34m1\u001b[0m)              │            \u001b[38;5;34m65\u001b[0m │\n",
              "└─────────────────────────────────┴────────────────────────┴───────────────┘\n"
            ]
          },
          "metadata": {},
          "output_type": "display_data"
        },
        {
          "data": {
            "text/html": [
              "<pre style=\"white-space:pre;overflow-x:auto;line-height:normal;font-family:Menlo,'DejaVu Sans Mono',consolas,'Courier New',monospace\"><span style=\"font-weight: bold\"> Total params: </span><span style=\"color: #00af00; text-decoration-color: #00af00\">12,929</span> (50.50 KB)\n",
              "</pre>\n"
            ],
            "text/plain": [
              "\u001b[1m Total params: \u001b[0m\u001b[38;5;34m12,929\u001b[0m (50.50 KB)\n"
            ]
          },
          "metadata": {},
          "output_type": "display_data"
        },
        {
          "data": {
            "text/html": [
              "<pre style=\"white-space:pre;overflow-x:auto;line-height:normal;font-family:Menlo,'DejaVu Sans Mono',consolas,'Courier New',monospace\"><span style=\"font-weight: bold\"> Trainable params: </span><span style=\"color: #00af00; text-decoration-color: #00af00\">12,929</span> (50.50 KB)\n",
              "</pre>\n"
            ],
            "text/plain": [
              "\u001b[1m Trainable params: \u001b[0m\u001b[38;5;34m12,929\u001b[0m (50.50 KB)\n"
            ]
          },
          "metadata": {},
          "output_type": "display_data"
        },
        {
          "data": {
            "text/html": [
              "<pre style=\"white-space:pre;overflow-x:auto;line-height:normal;font-family:Menlo,'DejaVu Sans Mono',consolas,'Courier New',monospace\"><span style=\"font-weight: bold\"> Non-trainable params: </span><span style=\"color: #00af00; text-decoration-color: #00af00\">0</span> (0.00 B)\n",
              "</pre>\n"
            ],
            "text/plain": [
              "\u001b[1m Non-trainable params: \u001b[0m\u001b[38;5;34m0\u001b[0m (0.00 B)\n"
            ]
          },
          "metadata": {},
          "output_type": "display_data"
        }
      ],
      "source": [
        "# show model architechture\n",
        "model.summary()"
      ]
    },
    {
      "cell_type": "code",
      "execution_count": 14,
      "metadata": {
        "colab": {
          "base_uri": "https://localhost:8080/",
          "height": 430
        },
        "id": "ytHvrvdX0ThC",
        "outputId": "c1b00548-073c-4c94-97c6-5b6a54e0c0c6"
      },
      "outputs": [
        {
          "data": {
            "image/png": "[encoded data removed]",
            "text/plain": [
              "<Figure size 640x480 with 1 Axes>"
            ]
          },
          "metadata": {},
          "output_type": "display_data"
        }
      ],
      "source": [
        "# 9. Fit mô hình với dữ liệu train, vẽ learning curve\n",
        "history = model.fit(X_train,y_train,validation_data=(X_test,y_test),epochs=100,batch_size=64,verbose=0)\n",
        "\n",
        "plt.plot(history.history['loss'], color = 'g', label = 'training loss')\n",
        "plt.plot(history.history['val_loss'], color = 'b', label = 'validation loss')\n",
        "plt.legend()\n",
        "plt.show()"
      ]
    },
    {
      "cell_type": "code",
      "execution_count": 15,
      "metadata": {
        "colab": {
          "base_uri": "https://localhost:8080/"
        },
        "id": "hBT3y2ZF0YZU",
        "outputId": "be088c8c-b73d-4395-ad88-102b37ea39fa"
      },
      "outputs": [
        {
          "name": "stdout",
          "output_type": "stream",
          "text": [
            "\u001b[1m12/12\u001b[0m \u001b[32m━━━━━━━━━━━━━━━━━━━━\u001b[0m\u001b[37m\u001b[0m \u001b[1m1s\u001b[0m 63ms/step\n",
            "(372, 1)\n"
          ]
        }
      ],
      "source": [
        "# 10. Dự báo dữ liệu test\n",
        "y_test_pred = model.predict(X_test)\n",
        "y_test_pred = y_test_pred.astype(np.float64)\n",
        "print(y_test_pred.shape)"
      ]
    },
    {
      "cell_type": "code",
      "execution_count": 16,
      "metadata": {},
      "outputs": [
        {
          "name": "stdout",
          "output_type": "stream",
          "text": [
            "NaN in y_test: False\n",
            "NaN in y_test_pred: False\n",
            "Infinite in y_test: False\n",
            "Infinite in y_test_pred: False\n"
          ]
        }
      ],
      "source": [
        "print(\"NaN in y_test:\", np.isnan(y_test).any())\n",
        "print(\"NaN in y_test_pred:\", np.isnan(y_test_pred).any())\n",
        "print(\"Infinite in y_test:\", np.isinf(y_test).any())\n",
        "print(\"Infinite in y_test_pred:\", np.isinf(y_test_pred).any())"
      ]
    },
    {
      "cell_type": "code",
      "execution_count": 17,
      "metadata": {},
      "outputs": [
        {
          "name": "stdout",
          "output_type": "stream",
          "text": [
            "Testing RMSE: 0.020709818521292892\n",
            "Testing MAPE(%): 2.413886161243285\n",
            "Testing MAE: 0.016443539532032526\n"
          ]
        }
      ],
      "source": [
        "from sklearn.metrics import mean_squared_error, mean_absolute_error, mean_absolute_percentage_error\n",
        "import numpy as np\n",
        "\n",
        "# Giả sử y_test và y_test_pred đã được định nghĩa trước đó\n",
        "\n",
        "# Đánh giá độ chính xác thuật toán bằng RMSE\n",
        "test_rmse = np.sqrt(mean_squared_error(y_test, y_test_pred))\n",
        "print('Testing RMSE:', test_rmse)\n",
        "\n",
        "# Đánh giá độ chính xác thuật toán bằng MAPE\n",
        "test_mape = mean_absolute_percentage_error(y_test, y_test_pred) * 100\n",
        "print('Testing MAPE(%):', test_mape)\n",
        "\n",
        "# Đánh giá độ chính xác thuật toán bằng MAE\n",
        "test_mae = mean_absolute_error(y_test, y_test_pred)\n",
        "print('Testing MAE:', test_mae)\n"
      ]
    },
    {
      "cell_type": "code",
      "execution_count": 18,
      "metadata": {},
      "outputs": [
        {
          "name": "stdout",
          "output_type": "stream",
          "text": [
            "Testing RMSE: 7.110508863292697\n",
            "Testing MAPE(%): 1.73529532619324\n",
            "Testing MAE: 5.645724682049111\n"
          ]
        }
      ],
      "source": [
        "# Inverse transform y_test and y_test_pred to their original scale\n",
        "y_test_inv = scaler.inverse_transform(y_test.reshape(-1, 1))\n",
        "y_test_pred_inv = scaler.inverse_transform(y_test_pred)\n",
        "\n",
        "# Evaluate the model with various metrics\n",
        "test_rmse = np.sqrt(mean_squared_error(y_test_inv, y_test_pred_inv))\n",
        "print('Testing RMSE:', test_rmse)\n",
        "\n",
        "test_mape = mean_absolute_percentage_error(y_test_inv, y_test_pred_inv) * 100\n",
        "print('Testing MAPE(%):', test_mape)\n",
        "\n",
        "test_mae = mean_absolute_error(y_test_inv, y_test_pred_inv)\n",
        "print('Testing MAE:', test_mae)"
      ]
    },
    {
      "cell_type": "code",
      "execution_count": 19,
      "metadata": {
        "colab": {
          "base_uri": "https://localhost:8080/"
        },
        "id": "zsC_RkmCu7yI",
        "outputId": "4cc8a3e0-488c-4f3e-d40a-15c22d99be83"
      },
      "outputs": [
        {
          "data": {
            "text/plain": [
              "(90, 1)"
            ]
          },
          "execution_count": 19,
          "metadata": {},
          "output_type": "execute_result"
        }
      ],
      "source": [
        "# 12. Dự báo 90 ngày tiếp theo\n",
        "# input đầu tiên là giá 100 ngày cuối trong test data\n",
        "price_input = test_data[-time_step:, :]\n",
        "\n",
        "total_model_out = []\n",
        "# loop over first day to end day\n",
        "for i in range(1,91):\n",
        "    model_input = np.expand_dims(price_input, axis = 0)\n",
        "\n",
        "    # check dimension of model input\n",
        "    assert model_input.ndim == 3\n",
        "    assert model_input.shape[1] == time_step\n",
        "\n",
        "    # inference\n",
        "    current_day_pred = model.predict(model_input, verbose=0)\n",
        "\n",
        "    # shift tất cả phần tử từ về trái 1 vị trí (đầu về cuối)\n",
        "    price_input = np.roll(price_input, shift = -1, axis = 0)\n",
        "    price_input[-1] = current_day_pred\n",
        "\n",
        "    # append vào list\n",
        "    total_model_out.append(current_day_pred[0][0])\n",
        "\n",
        "    # Kiểm tra index của giá vừa dự đoán đã được gán vào\n",
        "    # phần tử cuối của price_input\n",
        "    assert np.where(price_input == current_day_pred)[0] == 99\n",
        "\n",
        "\n",
        "total_model_out = np.array(total_model_out).reshape(-1,1)\n",
        "total_model_out.shape"
      ]
    },
    {
      "cell_type": "code",
      "execution_count": 20,
      "metadata": {
        "colab": {
          "base_uri": "https://localhost:8080/",
          "height": 491
        },
        "id": "mrTtuO4Y0GO4",
        "outputId": "f49c65d0-2eda-45fa-f2a6-77924cc4cee4"
      },
      "outputs": [
        {
          "data": {
            "image/png": "[encoded data removed]",
            "text/plain": [
              "<Figure size 1400x800 with 1 Axes>"
            ]
          },
          "metadata": {},
          "output_type": "display_data"
        }
      ],
      "source": [
        "# 13. Vẽ hình\n",
        "fig = plt.subplots(figsize = (14,8)) # set figure size\n",
        "\n",
        "train_data_index = pd.RangeIndex(start=0, stop=train_size, step=1)\n",
        "plt.plot(scaler.inverse_transform(train_data), label = 'Train')\n",
        "\n",
        "test_data_index = pd.RangeIndex(start=train_size, stop=train_size + test_size, step=1)\n",
        "plt.plot(test_data_index,scaler.inverse_transform(test_data), label = 'Test')\n",
        "\n",
        "test_data_index = pd.RangeIndex(start=train_size + time_step+1, stop=train_size + test_size, step=1)\n",
        "plt.plot(test_data_index,scaler.inverse_transform(y_test_pred), label = 'Predict')\n",
        "\n",
        "prediect_data_index = pd.RangeIndex(start=len(df1)-1, stop=len(df1)+29, step=1)\n",
        "plt.plot(prediect_data_index,scaler.inverse_transform(total_model_out[0:30,:]),label = 'Predict30days') #marker = 'o'\n",
        "\n",
        "prediect_data_index = pd.RangeIndex(start=len(df1)+29, stop=len(df1)+59, step=1)\n",
        "plt.plot(prediect_data_index,scaler.inverse_transform(total_model_out[30:60,:]),label = 'Predict60days') #marker = '+'\n",
        "\n",
        "prediect_data_index = pd.RangeIndex(start=len(df1)+59, stop=len(df1)+89, step=1)\n",
        "plt.plot(prediect_data_index,scaler.inverse_transform(total_model_out[60:90,:]), label = 'Predict90days',color = 'black') #marker = 'x'\n",
        "plt.legend()\n",
        "plt.show()\n",
        "\n",
        "\n"
      ]
    }
  ],
  "metadata": {
    "colab": {
      "provenance": []
    },
    "kernelspec": {
      "display_name": "Python 3",
      "name": "python3"
    },
    "language_info": {
      "codemirror_mode": {
        "name": "ipython",
        "version": 3
      },
      "file_extension": ".py",
      "mimetype": "text/x-python",
      "name": "python",
      "nbconvert_exporter": "python",
      "pygments_lexer": "ipython3",
      "version": "3.11.8"
    }
  },
  "nbformat": 4,
  "nbformat_minor": 0
}
